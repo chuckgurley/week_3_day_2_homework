{
 "cells": [
  {
   "cell_type": "markdown",
   "metadata": {},
   "source": [
    "# Object-Oriented-Programming (OOP)"
   ]
  },
  {
   "cell_type": "markdown",
   "metadata": {},
   "source": [
    "## Tasks Today:\n",
    "\n",
    "   \n",
    "\n",
    "1) <b>Creating a Class (Initializing/Declaring)</b> <br>\n",
    "2) <b>Using a Class (Instantiating)</b> <br>\n",
    " &nbsp;&nbsp;&nbsp;&nbsp; a) Creating One Instance <br>\n",
    " &nbsp;&nbsp;&nbsp;&nbsp; b) Creating Multiple Instances <br>\n",
    " &nbsp;&nbsp;&nbsp;&nbsp; c) In-Class Exercise #1 - Create a Class 'Car' and instantiate three different makes of cars <br>\n",
    "3) <b>The \\__init\\__() Method</b> <br>\n",
    " &nbsp;&nbsp;&nbsp;&nbsp; a) The 'self' Attribute <br>\n",
    "4) <b>Class Attributes</b> <br>\n",
    " &nbsp;&nbsp;&nbsp;&nbsp; a) Initializing Attributes <br>\n",
    " &nbsp;&nbsp;&nbsp;&nbsp; b) Setting an Attribute Outside of the \\__init\\__() Method <br>\n",
    " &nbsp;&nbsp;&nbsp;&nbsp; c) Setting Defaults for Attributes <br>\n",
    " &nbsp;&nbsp;&nbsp;&nbsp; d) Accessing Class Attributes <br>\n",
    " &nbsp;&nbsp;&nbsp;&nbsp; e) Changing Class Attributes <br>\n",
    " &nbsp;&nbsp;&nbsp;&nbsp; f) In-Class Exercise #2 - Add a color and wheels attribute to your 'Car' class <br>\n",
    "5) <b>Class Methods</b> <br>\n",
    " &nbsp;&nbsp;&nbsp;&nbsp; a) Creating <br>\n",
    " &nbsp;&nbsp;&nbsp;&nbsp; b) Calling <br>\n",
    " &nbsp;&nbsp;&nbsp;&nbsp; c) Modifying an Attribute's Value Through a Method <br>\n",
    " &nbsp;&nbsp;&nbsp;&nbsp; d) Incrementing an Attribute's Value Through a Method <br>\n",
    " &nbsp;&nbsp;&nbsp;&nbsp; e) In-Class Exercise #3 - Add a method that prints the cars color and wheel number, then call them <br>\n",
    "6) <b>Inheritance</b> <br>\n",
    " &nbsp;&nbsp;&nbsp;&nbsp; a) Syntax for Inheriting from a Parent Class <br>\n",
    " &nbsp;&nbsp;&nbsp;&nbsp; b) The \\__init\\__() Method for a Child Class (super()) <br>\n",
    " &nbsp;&nbsp;&nbsp;&nbsp; c) Defining Attributes and Methods for the Child Class <br>\n",
    " &nbsp;&nbsp;&nbsp;&nbsp; d) Method Overriding <br>\n",
    " &nbsp;&nbsp;&nbsp;&nbsp; e) In-Class Exercise #4 - Create a class 'Ford' that inherits from 'Car' class and initialize it as a Blue Ford Explorer with 4 wheels using the super() method <br>\n",
    "7) <b>Classes as Attributes</b> <br>\n",
    "8) <b>Exercises</b> <br>\n",
    " &nbsp;&nbsp;&nbsp;&nbsp; a) Exercise #1 - Turn the shopping cart program from last week into an object-oriented program <br>"
   ]
  },
  {
   "cell_type": "markdown",
   "metadata": {},
   "source": [
    "## Creating a Class (Initializing/Declaring)\n",
    "<p>When creating a class, function, or even a variable you are initializing that object. Initializing and Declaring occur at the same time in Python, whereas in lower level languages you have to declare an object before initializing it. This is the first step in the process of using a class.</p>"
   ]
  },
  {
   "cell_type": "code",
   "execution_count": null,
   "metadata": {},
   "outputs": [],
   "source": [
    "# class Car():\n",
    "#     wheels = 4\n",
    "#     color = 'blue'"
   ]
  },
  {
   "cell_type": "code",
   "execution_count": 1,
   "metadata": {},
   "outputs": [],
   "source": [
    "class Car():\n",
    "    wheels = 4\n",
    "    color = 'blue'"
   ]
  },
  {
   "cell_type": "code",
   "execution_count": null,
   "metadata": {},
   "outputs": [],
   "source": []
  },
  {
   "cell_type": "code",
   "execution_count": null,
   "metadata": {},
   "outputs": [],
   "source": []
  },
  {
   "cell_type": "markdown",
   "metadata": {},
   "source": [
    "## Using a Class (Instantiating)\n",
    "<p>The process of creating a class is called <i>Instantiating</i>. Each time you create a variable of that type of class, it is referred to as an <i>Instance</i> of that class. This is the second step in the process of using a class.</p>"
   ]
  },
  {
   "cell_type": "markdown",
   "metadata": {},
   "source": [
    "##### Creating One Instance"
   ]
  },
  {
   "cell_type": "code",
   "execution_count": 2,
   "metadata": {},
   "outputs": [
    {
     "name": "stdout",
     "output_type": "stream",
     "text": [
      "4\n",
      "blue\n",
      "{}\n"
     ]
    }
   ],
   "source": [
    "ford = Car()\n",
    "print(ford.wheels)\n",
    "print(ford.color)\n",
    "\n",
    "print(ford.__dict__)\n"
   ]
  },
  {
   "cell_type": "code",
   "execution_count": 3,
   "metadata": {},
   "outputs": [
    {
     "name": "stdout",
     "output_type": "stream",
     "text": [
      "4\n",
      "blue\n"
     ]
    }
   ],
   "source": [
    "mazda = Car() #<---- need parantheses\n",
    "\n",
    "print(mazda.wheels)\n",
    "print(mazda.color)\n"
   ]
  },
  {
   "cell_type": "markdown",
   "metadata": {},
   "source": [
    "##### Creating Multiple Instances"
   ]
  },
  {
   "cell_type": "code",
   "execution_count": 4,
   "metadata": {},
   "outputs": [
    {
     "name": "stdout",
     "output_type": "stream",
     "text": [
      "blue\n",
      "4\n"
     ]
    }
   ],
   "source": [
    "mazda = Car()\n",
    "\n",
    "honda = Car()\n",
    "\n",
    "mclaren = Car()\n",
    "\n",
    "print(mazda.color)\n",
    "print(mclaren.wheels)\n"
   ]
  },
  {
   "cell_type": "code",
   "execution_count": null,
   "metadata": {},
   "outputs": [],
   "source": []
  },
  {
   "cell_type": "markdown",
   "metadata": {},
   "source": [
    "##### In-Class Exercise #1 - Create a Class 'Car' and Instantiate three different makes of cars"
   ]
  },
  {
   "cell_type": "code",
   "execution_count": 7,
   "metadata": {},
   "outputs": [
    {
     "ename": "NameError",
     "evalue": "name 'Truck' is not defined",
     "output_type": "error",
     "traceback": [
      "\u001b[1;31m---------------------------------------------------------------------------\u001b[0m",
      "\u001b[1;31mNameError\u001b[0m                                 Traceback (most recent call last)",
      "Cell \u001b[1;32mIn[7], line 1\u001b[0m\n\u001b[1;32m----> 1\u001b[0m \u001b[38;5;28;01mclass\u001b[39;00m \u001b[38;5;21;01mTruck\u001b[39;00m():\n\u001b[0;32m      2\u001b[0m     lift_kit \u001b[38;5;241m=\u001b[39m \u001b[38;5;241m1\u001b[39m\n\u001b[0;32m      3\u001b[0m     fuel \u001b[38;5;241m=\u001b[39m \u001b[38;5;124m'\u001b[39m\u001b[38;5;124mdiesel\u001b[39m\u001b[38;5;124m'\u001b[39m\n",
      "Cell \u001b[1;32mIn[7], line 8\u001b[0m, in \u001b[0;36mTruck\u001b[1;34m()\u001b[0m\n\u001b[0;32m      5\u001b[0m doors \u001b[38;5;241m=\u001b[39m \u001b[38;5;241m4\u001b[39m\n\u001b[0;32m      6\u001b[0m winch \u001b[38;5;241m=\u001b[39m\u001b[38;5;241m1\u001b[39m\n\u001b[1;32m----> 8\u001b[0m ram1500 \u001b[38;5;241m=\u001b[39m \u001b[43mTruck\u001b[49m\n\u001b[0;32m      9\u001b[0m ram2500 \u001b[38;5;241m=\u001b[39m Truck\n\u001b[0;32m     10\u001b[0m ram3500 \u001b[38;5;241m=\u001b[39m Truck\n",
      "\u001b[1;31mNameError\u001b[0m: name 'Truck' is not defined"
     ]
    }
   ],
   "source": [
    "class Truck():\n",
    "    lift_kit = 1\n",
    "    fuel = 'diesel'\n",
    "    model = 'HD'\n",
    "    doors = 4\n",
    "    winch =1\n",
    "    \n",
    "    ram1500 = Truck\n",
    "    ram2500 = Truck\n",
    "    ram3500 = Truck\n",
    "    \n",
    "    print(ram1500.lift_kit)\n",
    "    "
   ]
  },
  {
   "cell_type": "code",
   "execution_count": null,
   "metadata": {},
   "outputs": [],
   "source": [
    "class Car():\n",
    "    wheels = 3\n",
    "    seats = 4\n",
    "    cupholders = 12\n",
    "    usb_ports = 1\n",
    "    climate_control_stations = 1\n",
    "    body_material = \"low-quality steel\"\n",
    "dodge = Car()\n",
    "hyundai, bmw = Car(), Car()\n",
    "\n",
    "\n",
    "print(dodge.cupholders)\n",
    "print(hyundai.usb_ports)\n",
    "print(bmw.body_material)"
   ]
  },
  {
   "cell_type": "code",
   "execution_count": null,
   "metadata": {},
   "outputs": [],
   "source": [
    "class Car():\n",
    "    size = 'sedan'\n",
    "    wheel = 4\n",
    "    year = 2021\n",
    "    company = ''\n",
    "\n",
    "subaru = Car()\n",
    "tesla = Car()\n",
    "dodge = Car()\n",
    "\n",
    "subaru.company = 'subaru'\n",
    "tesla.company = 'tesla'\n",
    "dodge.company = 'dodge'\n",
    "\n",
    "print(subaru.company)\n",
    "print(tesla.size)\n",
    "print(dodge.year)"
   ]
  },
  {
   "cell_type": "code",
   "execution_count": null,
   "metadata": {},
   "outputs": [],
   "source": [
    "class Car():\n",
    "    seats = 4\n",
    "    wheels = 4\n",
    "    color = \"blue\"\n",
    "    model = \"sedan\"\n",
    "    \n",
    "toyota = Car()\n",
    "honda = Car()\n",
    "ford = Car()\n",
    "\n",
    "toyota.seats = 7\n",
    "toyota.color = \"red\"\n",
    "toyota.model = \"highlander\"\n",
    "\n",
    "print(toyota.color)\n",
    "print(toyota.seats)\n",
    "print(toyota.model)\n",
    "\n",
    "print(honda.color)\n",
    "print(honda.seats)\n",
    "print(honda.model)"
   ]
  },
  {
   "cell_type": "code",
   "execution_count": null,
   "metadata": {},
   "outputs": [],
   "source": [
    "class Car():\n",
    "    size = 'sedan'\n",
    "    wheel = 4\n",
    "    year = 2021\n",
    "    company = ''\n",
    "\n",
    "subaru = Car()\n",
    "tesla = Car()\n",
    "dodge = Car()\n",
    "\n",
    "subaru.company = 'subaru'\n",
    "tesla.company = 'tesla'\n",
    "dodge.company = 'dodge'\n",
    "\n",
    "print(subaru.company)\n",
    "print(tesla.size)\n",
    "print(dodge.year)"
   ]
  },
  {
   "cell_type": "code",
   "execution_count": null,
   "metadata": {},
   "outputs": [],
   "source": []
  },
  {
   "cell_type": "code",
   "execution_count": null,
   "metadata": {},
   "outputs": [],
   "source": [
    "class Car():\n",
    "    GOES_FAST =  True # constant --> not likely to change across objects\n",
    "    def __init__(self, model, year, fuel):\n",
    "        self.model = model\n",
    "        self.fuel = fuel\n",
    "        self.year = year\n",
    "toyota = Car(\"prius\", 2015, \"hybrid\")\n",
    "nissan = Car(\"400z\", 2021, \"premium gasoline\")\n",
    "BMW = Car(\"m3\", 1990, \"unleaded gasoline\")\n",
    "\n",
    "print(toyota.__dict__)\n",
    "print(nissan.__dict__)\n",
    "print(BMW.__dict__)\n"
   ]
  },
  {
   "cell_type": "code",
   "execution_count": null,
   "metadata": {},
   "outputs": [],
   "source": [
    "class Car():\n",
    "    def __init__(self, make, model, wheels, color, doors):\n",
    "        self.make = make\n",
    "        self.model = model\n",
    "        self.wheels = wheels\n",
    "        self.color = color\n",
    "        self.doors = doors\n",
    "chevy = Car(\"Chevy\", \"Impala\", 4, \"Mocha Metallic Bronze\", 4)\n",
    "fisher = Car(\"Fisher-Price\", \"Toy\", 4, \"red\", 2)\n",
    "horse = Car(\"Gandalf\", \"Shadowfax\", 0, \"white\", 0)\n",
    "\n",
    "\n",
    "car_make = input(\"Please enter the make of your car\")\n",
    "car_model = input(\"Please enter the model of your car\")\n",
    "car_wheels = input(\"Please enter how many wheels your car has\")\n",
    "car_color = input(\"Please enter the color of your car\")\n",
    "car_doors = input(\"Please enter how many doors your car has\")\n",
    "\n",
    "print(f\"Your car is a {car_color} {car_make} {car_model} with {car_wheels} wheels and {car_doors} doors\")\n"
   ]
  },
  {
   "cell_type": "code",
   "execution_count": null,
   "metadata": {},
   "outputs": [],
   "source": [
    "class Car():\n",
    "    def __init__(self, model, color, doors, horsepower):\n",
    "        self.model = model\n",
    "        self.color = color\n",
    "        self.doors = doors\n",
    "        self.horsepower = horsepower\n",
    "\n",
    "hyundai = Car(\"Genesis Coupe 3.8L\", \"Slate Grey\", 2, 360 )\n",
    "honda = Car(\"Accord\", \"Silver\", 4, 200)\n",
    "bmw = Car(\"M3\", \"Black\", 4, 470)\n",
    "\n",
    "print(hyundai.__dict__)\n",
    "print(honda.__dict__)\n",
    "print(bmw.__dict__)\n"
   ]
  },
  {
   "cell_type": "code",
   "execution_count": null,
   "metadata": {},
   "outputs": [],
   "source": [
    "class Car():\n",
    "    def __init__(self, mph, color, body):\n",
    "        self.mph = mph\n",
    "        self.color = color\n",
    "        self.body = body\n",
    "\n",
    "toyota = Car(50, \"blue\", \"sedan\")\n",
    "\n",
    "nissan = Car(35, \"silver\", \"truck\")\n",
    "\n",
    "audi = Car(25, \"black\", \"sedan\")\n",
    "\n",
    "\n",
    "print(toyota.body)\n",
    "print(nissan.color)\n",
    "print(audi.mph)\n"
   ]
  },
  {
   "cell_type": "markdown",
   "metadata": {},
   "source": [
    "## The \\__init\\__() Method <br>\n",
    "<p>This method is used in almost every created class, and called only once upon the creation of the class instance. This method will initialize all variables needed for the object.</p>"
   ]
  },
  {
   "cell_type": "code",
   "execution_count": 16,
   "metadata": {},
   "outputs": [
    {
     "name": "stdout",
     "output_type": "stream",
     "text": [
      "Blue\n",
      "Red\n",
      "Green\n",
      "Silver\n",
      "{'wheels': 4, 'color': 'Blue', 'doors': 4}\n"
     ]
    }
   ],
   "source": [
    "class Car():\n",
    "    def __init__(self, wheels, color, doors):\n",
    "        self.wheels = wheels\n",
    "        self.color = color\n",
    "        self.doors = doors\n",
    "mazda = Car(4, \"Blue\", 4)\n",
    "\n",
    "mclaren = Car(4, 'Red', 2)\n",
    "\n",
    "honda = Car(4, \"Green\", 4)\n",
    "\n",
    "ford = Car(6, \"Silver\", 4)\n",
    "print(mazda.color)\n",
    "print(mclaren.color)\n",
    "print(honda.color)\n",
    "print(ford.color)\n",
    "\n",
    "mazda.wheels\n",
    "\n",
    "print(mazda.__dict__)"
   ]
  },
  {
   "cell_type": "code",
   "execution_count": null,
   "metadata": {},
   "outputs": [],
   "source": []
  },
  {
   "cell_type": "code",
   "execution_count": null,
   "metadata": {},
   "outputs": [],
   "source": []
  },
  {
   "cell_type": "code",
   "execution_count": 17,
   "metadata": {},
   "outputs": [
    {
     "name": "stdout",
     "output_type": "stream",
     "text": [
      "blue\n",
      "black\n"
     ]
    },
    {
     "ename": "AttributeError",
     "evalue": "'tuple' object has no attribute 'color'",
     "output_type": "error",
     "traceback": [
      "\u001b[1;31m---------------------------------------------------------------------------\u001b[0m",
      "\u001b[1;31mAttributeError\u001b[0m                            Traceback (most recent call last)",
      "Cell \u001b[1;32mIn[17], line 12\u001b[0m\n\u001b[0;32m     10\u001b[0m \u001b[38;5;28mprint\u001b[39m(mazda\u001b[38;5;241m.\u001b[39mcolor)\n\u001b[0;32m     11\u001b[0m \u001b[38;5;28mprint\u001b[39m(chevy\u001b[38;5;241m.\u001b[39mcolor)\n\u001b[1;32m---> 12\u001b[0m \u001b[38;5;28mprint\u001b[39m(\u001b[43msubaru\u001b[49m\u001b[38;5;241;43m.\u001b[39;49m\u001b[43mcolor\u001b[49m)\n",
      "\u001b[1;31mAttributeError\u001b[0m: 'tuple' object has no attribute 'color'"
     ]
    }
   ],
   "source": [
    "class Car():\n",
    "    def __init__(self,wheels, color, doors):\n",
    "        self.wheels = wheels #honda.wheels = Car((<what ever ))\n",
    "        self.color = color\n",
    "        self.doors = doors\n",
    "    \n",
    "mazda = Car(4, 'blue', 4)\n",
    "chevy = Car(6, 'black', 4)\n",
    "subaru = Car(4,'orange',5)\n",
    "print(mazda.color)\n",
    "print(chevy.color)\n",
    "print(subaru.color)\n",
    "\n"
   ]
  },
  {
   "cell_type": "code",
   "execution_count": null,
   "metadata": {},
   "outputs": [],
   "source": []
  },
  {
   "cell_type": "code",
   "execution_count": null,
   "metadata": {},
   "outputs": [],
   "source": []
  },
  {
   "cell_type": "markdown",
   "metadata": {},
   "source": [
    "##### The 'self' Attribute <br>\n",
    "<p>This attribute is required to keep track of specific instance's attributes. Without the self attribute, the program would not know how to reference or keep track of an instance's attributes.</p>"
   ]
  },
  {
   "cell_type": "code",
   "execution_count": 21,
   "metadata": {},
   "outputs": [
    {
     "name": "stdout",
     "output_type": "stream",
     "text": [
      "Charmander\n",
      "This is Charmander. It is a fire type.\n"
     ]
    }
   ],
   "source": [
    "class Pokemon():\n",
    "    def __init__(self, name, type_):\n",
    "        #self is going to hold the place of the object we instantiate\n",
    "        self.name = name #self will become object. (object.name)\n",
    "        self.type_ = type_\n",
    "#         print(f\"self is referencing the object {self}, {self.name}\")\n",
    "#         print(self.type_)\n",
    "\n",
    "    def print_info(self):\n",
    "        print(f\"This is {self.name}. It is a {self.type_} type.\")\n",
    "        \n",
    "        \n",
    "    \n",
    "        \n",
    "charmander = Pokemon(\"Charmander\", \"fire\")\n",
    "# squirtle = Pokemon(\"Squirtle\", \"water\")\n",
    "\n",
    "print(charmander.name)\n",
    "\n",
    "charmander.print_info()"
   ]
  },
  {
   "cell_type": "code",
   "execution_count": 19,
   "metadata": {},
   "outputs": [
    {
     "ename": "IndentationError",
     "evalue": "expected an indented block after function definition on line 3 (3542422907.py, line 5)",
     "output_type": "error",
     "traceback": [
      "\u001b[1;36m  Cell \u001b[1;32mIn[19], line 5\u001b[1;36m\u001b[0m\n\u001b[1;33m    self.name = name\u001b[0m\n\u001b[1;37m    ^\u001b[0m\n\u001b[1;31mIndentationError\u001b[0m\u001b[1;31m:\u001b[0m expected an indented block after function definition on line 3\n"
     ]
    }
   ],
   "source": [
    "# class Pokemon():\n",
    "#     #self will hold\n",
    "#     def __init__(self, name, type_):\n",
    "        \n",
    "#     self.name = name\n",
    "\n",
    "#     self.type = type_\n",
    "    "
   ]
  },
  {
   "cell_type": "code",
   "execution_count": null,
   "metadata": {},
   "outputs": [],
   "source": []
  },
  {
   "cell_type": "markdown",
   "metadata": {},
   "source": [
    "## Class Attributes <br>\n",
    "<p>While variables are inside of a class, they are referred to as attributes and not variables. When someone says 'attribute' you know they're speaking about a class. Attributes can be initialized through the init method, or outside of it.</p>"
   ]
  },
  {
   "cell_type": "markdown",
   "metadata": {},
   "source": [
    "##### Initializing Attributes"
   ]
  },
  {
   "cell_type": "code",
   "execution_count": 22,
   "metadata": {},
   "outputs": [],
   "source": [
    "bulbasaur = Pokemon(\"Bulbasaur\", \"Grass\")"
   ]
  },
  {
   "cell_type": "markdown",
   "metadata": {},
   "source": [
    "##### Accessing Class Attributes"
   ]
  },
  {
   "cell_type": "code",
   "execution_count": 23,
   "metadata": {
    "scrolled": true
   },
   "outputs": [
    {
     "name": "stdout",
     "output_type": "stream",
     "text": [
      "Bulbasaur\n",
      "Grass\n",
      "{'name': 'Bulbasaur', 'type_': 'Grass'}\n"
     ]
    }
   ],
   "source": [
    "print(bulbasaur.name)\n",
    "print(bulbasaur.type_)\n",
    "print(bulbasaur.__dict__)\n",
    "\n",
    "\n",
    "\n"
   ]
  },
  {
   "cell_type": "markdown",
   "metadata": {},
   "source": [
    "##### Setting Defaults for Attributes"
   ]
  },
  {
   "cell_type": "code",
   "execution_count": 28,
   "metadata": {},
   "outputs": [
    {
     "name": "stdout",
     "output_type": "stream",
     "text": [
      "Blue\n",
      "4\n"
     ]
    }
   ],
   "source": [
    "class Car():\n",
    "    def __init__(self, wheels):\n",
    "        self.wheels = wheels\n",
    "        self.color = \"Blue\"\n",
    "        \n",
    "honda = Car(4)\n",
    "print(honda.color)\n",
    "honda.color = 'Red'\n",
    "print(honda.wheels)\n",
    "mazda = Car(4)"
   ]
  },
  {
   "cell_type": "code",
   "execution_count": 31,
   "metadata": {},
   "outputs": [
    {
     "name": "stdout",
     "output_type": "stream",
     "text": [
      "blue\n",
      "Red\n",
      "orange\n",
      "Red\n",
      "\n",
      "\n",
      "orange\n"
     ]
    }
   ],
   "source": [
    "class Car():\n",
    "    def __init__(self, wheels, color = 'Red'):\n",
    "        self.wheels = wheels\n",
    "        self.color = color\n",
    "ford = Car(4)\n",
    "# print(ford.wheels)\n",
    "# print(ford.color)\n",
    "mazda = Car(4, \"blue\")\n",
    "print(mazda.color)\n",
    "print(ford.color)\n",
    "honda = Car(4, \"orange\")\n",
    "print(honda.color)\n",
    "print(ford.color)\n",
    "print(\"\\n\")\n",
    "toyota = Car(3, 'orange')\n",
    "print(toyota.color)"
   ]
  },
  {
   "cell_type": "markdown",
   "metadata": {},
   "source": [
    "##### Changing Class Attributes <br>\n",
    "<p>Keep in mind there are global class attributes and then there are attributes only available to each class instance which won't effect other classes.</p>"
   ]
  },
  {
   "cell_type": "code",
   "execution_count": null,
   "metadata": {},
   "outputs": [],
   "source": [
    "class Car():\n",
    "    def __init__(self, wheels):\n",
    "        self.wheels = wheels\n",
    "        self.color = \"Blue\"\n",
    "        \n",
    "honda = Car(4)\n",
    "# print(honda.color)\n",
    "print(honda.wheels)\n",
    "mazda = Car(4)\n",
    "#Change our default attribute\n",
    "print(f\"before attribute change {honda.color}\")\n",
    "honda.color = \"Red\"\n",
    "print(f\"after attribute change {honda.color}\")\n",
    "\n",
    "color = \"Blue\"\n",
    "print(f\"before variable change {color}\")\n",
    "color = \"red\"\n",
    "print(f\"after variable change {honda.color}\")\n"
   ]
  },
  {
   "cell_type": "code",
   "execution_count": 33,
   "metadata": {},
   "outputs": [
    {
     "name": "stdout",
     "output_type": "stream",
     "text": [
      "Cheetor before he was broken: True he is fun\n",
      "Cheetor before he was broken: False he is fun\n"
     ]
    }
   ],
   "source": [
    "class Toy():\n",
    "    def __init__(self, name, is_it_fun):\n",
    "        self.name  = name\n",
    "        self.is_it_fun = is_it_fun\n",
    "        \n",
    "beast_wars = Toy(\"Cheetor\", True)\n",
    "print(f\"Cheetor before he was broken: {beast_wars.is_it_fun} he is fun\")\n",
    "beast_wars.is_it_fun = False\n",
    "print(f\"Cheetor before he was broken: {beast_wars.is_it_fun} he is fun\")"
   ]
  },
  {
   "cell_type": "code",
   "execution_count": null,
   "metadata": {},
   "outputs": [],
   "source": []
  },
  {
   "cell_type": "code",
   "execution_count": null,
   "metadata": {},
   "outputs": [],
   "source": []
  },
  {
   "cell_type": "markdown",
   "metadata": {},
   "source": [
    "##### In-Class Exercise #2 - Add two new attributes to your 'Car' class then print out two different instances with different doors and seats. Then take that bad boy to the shop and change those attributes. Either with an input or just by changing them"
   ]
  },
  {
   "cell_type": "code",
   "execution_count": 34,
   "metadata": {},
   "outputs": [
    {
     "name": "stdout",
     "output_type": "stream",
     "text": [
      "5\n",
      "6\n"
     ]
    }
   ],
   "source": [
    "class Car():\n",
    "    def __init__(self, make, model, wheels, color, doors = 4, seats = 4):\n",
    "        self.make = make\n",
    "        self.model = model\n",
    "        self.wheels = wheels\n",
    "        self.color = color\n",
    "        self.doors = doors\n",
    "        self.seats = seats\n",
    "        \n",
    "ford= Car(\"Ford\", F 150\", 4, \"Black\", 4, 6)\n",
    "ram = Car(\"Ram\", \"1500\", 4, \"Grey\", 4, 6)\n",
    "\n",
    "print(ford.doors)\n",
    "print(ford.model)\n",
    "print(ford.doors)\n",
    "print(ford.seats)\n",
    "print(ford.color)\n",
    "print(ford.doors)\n",
    "print(ford.seats)\n",
    "print(ford.doors)\n",
    "print(ford.doors)         \n",
    "print(ford.doors)          \n",
    "          \n",
    "          \n",
    "# horse = Car(\"Gandalf\", \"Shadowfax\", 0, \"white\", 0, 1)\n",
    "\n",
    "# print(horse.make, horse.model, horse.wheels, horse.color, horse.doors, horse.seats)\n",
    "\n",
    "# horse = Car(\"Gandalf\", \"Shadowfax\", 0, \"white\", 1, 2)\n",
    "\n",
    "# seats = input(\"How many seats? \")\n",
    "# horse.seats = seats\n",
    "\n",
    "\n",
    "# print(horse.make, horse.model, horse.wheels, horse.color, horse.doors, horse.seats)\n"
   ]
  },
  {
   "cell_type": "code",
   "execution_count": null,
   "metadata": {},
   "outputs": [],
   "source": [
    "class Car():\n",
    "    def __init__(self, mpg, max_mph):\n",
    "        self.mpg = 25\n",
    "        self.max_mph = 120\n",
    "\n",
    "ford = Car(15, 120)\n",
    "print(ford.mpg)\n",
    "print(ford.max_mph)\n",
    "ford.mpg = 18\n",
    "ford.max_mph = 130\n",
    "print(ford.mpg)\n",
    "print(ford.max_mph)\n"
   ]
  },
  {
   "cell_type": "code",
   "execution_count": null,
   "metadata": {},
   "outputs": [],
   "source": [
    "class Car():\n",
    "    def __init__(self, doors, seats, color):\n",
    "        self.doors = doors\n",
    "        self.seats = seats\n",
    "        self.color = color\n",
    "\n",
    "mazda = Car(4, 5, \"black\")\n",
    "toyota = Car(2, 4, \"silver\")\n",
    "print(mazda.doors)\n",
    "print(toyota.doors)\n",
    "\n",
    "mazda.color = \"Red\"\n",
    "toyota.seats = 2\n",
    "print(mazda.color)\n",
    "print(toyota.seats)\n",
    "\n",
    "x = int(input(\"How many doors does your Toyota have? \"))\n",
    "toyota.doors = x\n",
    "print(f\"Your {toyota.color} Toyota has {toyota.doors} doors and {toyota.seats} seats.\")\n"
   ]
  },
  {
   "cell_type": "code",
   "execution_count": null,
   "metadata": {
    "scrolled": true
   },
   "outputs": [],
   "source": [
    "class Car():\n",
    "    def __init__ (self, seats, door = 4, ):\n",
    "        self.door = door\n",
    "        self.seats = seats\n",
    "\n",
    "Tesla = Car(\"leather\")\n",
    "\n",
    "print (f\"Tesla is a {Tesla.door} door and has {Tesla.seats} seats\")\n",
    "\n",
    "Mazda = Car(\"cloth\")\n",
    "\n",
    "print(f\"Mazda is a {Mazda.door} door and has {Mazda.seats} seats\")\n",
    "\n",
    "\n",
    "print (\"After some changes \")\n",
    "print('')\n",
    "Tesla.door = 6\n",
    "#after changing the attribute \n",
    "print (f\"Tesla is now a {Tesla.door} door\")\n",
    "\n",
    "Mazda.seats = \"leather\"\n",
    "print(f\"Mazda now has {Mazda.seats} seats\")\n",
    "\n",
    "\n"
   ]
  },
  {
   "cell_type": "code",
   "execution_count": null,
   "metadata": {},
   "outputs": [],
   "source": [
    "class Car():\n",
    "    goes_fast = True # constant --> not likley to change across constants\n",
    "    def __init__(self, model, year, fuel, doors, seats):\n",
    "        self.model = model\n",
    "        self.fuel = fuel\n",
    "        self.year = year\n",
    "        self.doors = doors\n",
    "        self.seats = seats\n",
    "        self.self_driving = self_driving\n",
    "toyota = Car(\"prius\", 2015, \"hybrid\", 4, 5)\n",
    "nissan = Car(\"400z\", 2021, \"premium gasoline\", 2, 2)\n",
    "BMW = Car(\"m3\", 1990, \"unleaded gasoline\", 4, 4, True)\n",
    "\n",
    "print(toyota.model)\n",
    "print(nissan.fuel)\n",
    "print(BMW.year)\n",
    "print(BMW.seats)\n",
    "print(toyota.doors)\n",
    "toyota.doors = 5\n",
    "print(toyota.doors)\n",
    "nissan.model = \"370z\"\n",
    "print(nissan.model)\n"
   ]
  },
  {
   "cell_type": "code",
   "execution_count": 35,
   "metadata": {},
   "outputs": [
    {
     "name": "stdout",
     "output_type": "stream",
     "text": [
      "car1 has 4 doors and 5 seats.\n",
      "car2 has 2 doors and 2 seats.\n"
     ]
    }
   ],
   "source": [
    "class Car:\n",
    "    def __init__(self, doors, seats, color):\n",
    "        self.doors = doors\n",
    "        self.seats = seats\n",
    "        self.color = color\n",
    "        self.engine_type = \"gasoline\"\n",
    "        self.transmission = \"automatic\"\n",
    "        \n",
    "car1 = Car(doors=4, seats=5, color=\"red\")\n",
    "car2 = Car(doors=2, seats=2, color=\"blue\")\n",
    "\n",
    "print(f\"car1 has {car1.doors} doors and {car1.seats} seats.\")\n",
    "print(f\"car2 has {car2.doors} doors and {car2.seats} seats.\")\n",
    "\n"
   ]
  },
  {
   "cell_type": "code",
   "execution_count": 37,
   "metadata": {},
   "outputs": [
    {
     "name": "stdout",
     "output_type": "stream",
     "text": [
      "name: Draciel\n",
      "type: Attack\n",
      "franchise: Beyblade: Chronicles\n",
      "power_level: 9001\n"
     ]
    }
   ],
   "source": [
    "class Toy():\n",
    "    def __init__(self, name, type_, franchise, power_level = 1):\n",
    "        self.name = name\n",
    "        self.type = type_\n",
    "        self.franchise = franchise\n",
    "        self.power_level = power_level\n",
    "\n",
    "beyblade = Toy('Draciel', 'Attack', 'Beyblade')\n",
    "beyblade.franchise = 'Beyblade: Chronicles'\n",
    "beyblade.power_level += 9000\n",
    "\n",
    "for k, v in beyblade.__dict__.items():\n",
    "    print(f'{k}: {v}')"
   ]
  },
  {
   "cell_type": "code",
   "execution_count": 36,
   "metadata": {},
   "outputs": [
    {
     "name": "stdout",
     "output_type": "stream",
     "text": [
      "Black\n",
      "7\n",
      "F150\n",
      "what is the color of your car? mat black\n",
      "Your car F150 is mat black color and 5 seated.\n"
     ]
    }
   ],
   "source": [
    "class Car():\n",
    "    def __init__(self, color, seat, make):\n",
    "        self.color = color\n",
    "        self.seat = seat\n",
    "        self.make = make\n",
    "        \n",
    "honda = Car(\"Black\", 8, \"Pilot\")\n",
    "toyota = Car(\"Grey\", 7, \"Highlander\")\n",
    "ford = Car(\"White\", 5, \"F150\")\n",
    "print(honda.color)\n",
    "print(toyota.seat)\n",
    "print(ford.make)\n",
    "\n",
    "\n",
    "clr = input(\"what is the color of your car? \")\n",
    "ford.color = clr\n",
    "print(f\"Your car {ford.make} is {ford.color} color and {ford.seat} seated.\")"
   ]
  },
  {
   "cell_type": "code",
   "execution_count": null,
   "metadata": {},
   "outputs": [],
   "source": [
    "class Pizza();\n",
    "    def __init__():\n",
    "        self.sause = self.set_sause()\n",
    "        self.toppings = self.set_topping()\n",
    "        self.crust = self.set_crust()\n",
    "    Def set_sause(self):\n",
    "        sause = input(\"what kind of sause would you like?\")\n",
    "            return sause\n",
    "        sause = input(\"what kind of topping would you like?\")\n",
    "            return topping\n",
    "        sause = input(\"what kind of crust would you like?\")\n",
    "            return crust\n",
    "        "
   ]
  },
  {
   "cell_type": "code",
   "execution_count": null,
   "metadata": {},
   "outputs": [],
   "source": []
  },
  {
   "cell_type": "markdown",
   "metadata": {},
   "source": [
    "## Class Methods <br>\n",
    "<p>While inside of a class, functions are referred to as 'methods'. If you hear someone mention methods, they're speaking about classes. Methods are essentially functions, but only callable on the instances of a class.</p>"
   ]
  },
  {
   "cell_type": "markdown",
   "metadata": {},
   "source": [
    "##### Creating"
   ]
  },
  {
   "cell_type": "code",
   "execution_count": null,
   "metadata": {},
   "outputs": [],
   "source": []
  },
  {
   "cell_type": "code",
   "execution_count": 39,
   "metadata": {},
   "outputs": [
    {
     "ename": "IndentationError",
     "evalue": "unindent does not match any outer indentation level (<tokenize>, line 39)",
     "output_type": "error",
     "traceback": [
      "\u001b[1;36m  File \u001b[1;32m<tokenize>:39\u001b[1;36m\u001b[0m\n\u001b[1;33m    def unload_passengers(self):\u001b[0m\n\u001b[1;37m    ^\u001b[0m\n\u001b[1;31mIndentationError\u001b[0m\u001b[1;31m:\u001b[0m unindent does not match any outer indentation level\n"
     ]
    }
   ],
   "source": [
    "class Bus():\n",
    "    \"\"\"\n",
    "    The buss will have doors, seats, seats available, color, and a bus driver\n",
    "    \n",
    "    Attributes for the bus:\n",
    "    -doors: integer\n",
    "    -seats: integer\n",
    "    -seats_available: integer\n",
    "    -color: string\n",
    "    -bus_driver: string\n",
    "    \n",
    "    \"\"\"\n",
    "    def __init__(self, doors, seats, seats_available, color, bus_driver):\n",
    "        self.doors = doors\n",
    "        self.seats = seats\n",
    "        self.seats_available = seats_available\n",
    "        self.color = color\n",
    "        self.bus_driver = bus_driver\n",
    "        \n",
    "        \n",
    "        \n",
    "        \n",
    "#     # dencrement the number of seats available\n",
    "    def load_passengers(self): \n",
    "        if self.seats_available <= 0:\n",
    "             print(\"This bus is full! You can't take any more passengers :(\")\n",
    "                 if self.seats_available < 0:\n",
    "                         print(f\"You left {abs(self.seats_available)} by the road!\")\n",
    "                             self.seats_available = 0\n",
    "#        else:\n",
    "#             passengers = int(input(\"How man passengers are getting on? \"))\n",
    "#             self.seats_available -= passengers\n",
    "#             if self.seats_available < 0:\n",
    "#                 print(f\"You left {abs(self.seats_available)} by the road!\")\n",
    "#                 self.seats_available = 0\n",
    "#             print(f\"{passengers} passengers have boarded. There are {self.seats_available} seats available left on the bus!\")\n",
    "            \n",
    "#     # increment the number of seats available\n",
    "     def unload_passengers(self):\n",
    "\n",
    "         if self.seats_available >= self.seats:\n",
    "                 print(\"There is no one on the bus to unload!\")\n",
    "                     else:\n",
    "                        unload = int(input(\"How many passengers are getting off the bus?\" ))\n",
    "                        self.seats_available += unload\n",
    "                        if self.seats_available >= self.seats:\n",
    "                             self.seats_available = self.seats\n",
    "                \n",
    "                 print(f\"{unload} passengers have left the bus. There are {self.seats_available} left\")\n",
    "            \n",
    "#     #change the bus_driver attribute\n",
    "     def change_driver(self):\n",
    "        \n",
    "         change = input(\"Who is replacing you? \")\n",
    "             self.bus_driver = change\n",
    "                 print(f\"The new bus driver is {self.bus_driver}. Be sure to thank them!\")\n",
    "        \n",
    "#     #display available seats\n",
    "     def check_seats(self):\n",
    "         print(f\"There are {self.seats_available} seats available\")\n",
    "        \n",
    "#     #display bus color\n",
    "     def admire_bus(self):\n",
    "         print(f\"Would ya just look at that beautiful {self.color} bus! WOULD YA JUST LOOK AT IT!\")\n",
    "        \n",
    "        \n",
    "\n",
    "            \n",
    "    "
   ]
  },
  {
   "cell_type": "code",
   "execution_count": 56,
   "metadata": {},
   "outputs": [],
   "source": [
    "class Bus():\n",
    "    \"\"\"\n",
    "    The bus will have doors, seats, seats available, color, and a bus driver\n",
    "    \n",
    "    Attributes for the bus:\n",
    "    --doors: integer\n",
    "    --seats: integer\n",
    "    --seats_available: intenger\n",
    "    --color: string\n",
    "    --bus_driver: string   \n",
    "    \n",
    "    \"\"\"\n",
    "    def __init__(self, doors, seats, seats_available, color, bus_driver):\n",
    "        self.doors = doors\n",
    "        self.seats = seats\n",
    "        self.seats_available = seats_available\n",
    "        self.color = color\n",
    "        self.bus_driver = bus_driver\n",
    "        \n",
    "    #decrement the number of seats available\n",
    "    def load_passenger(self):\n",
    "        if self.seats_available == 0:\n",
    "            print(\"The bus is full! You cant take any more passengers! :(\")\n",
    "#             if self.seats_available < 0:\n",
    "#                 print(f\"You left {abs(self.seats_available)} by the road!\")\n",
    "#                 self.seats_available = 0\n",
    "        else: \n",
    "            passengers = int(input(\"How many passengers are getting on? \"))\n",
    "            self.seats_available -= passengers\n",
    "            if self.seats_available < 0:\n",
    "                print(f\"You left {abs(self.seats_available)} by the road!\")\n",
    "                self.seats_available = 0\n",
    "            print(f\"{passengers} have boarded. There are {self.seats_available} seats available on the bus.\")\n",
    "    \n",
    "    #increment the number of seats available\n",
    "    def unload_passengers(self):\n",
    "        if self.seats_available >= self.seats:\n",
    "            print(\"There is no one left top get off the bus!\")\n",
    "        else:\n",
    "            unload = int(input(\"How man passengers are getting off the bus? \"))\n",
    "            self.seats_available += unload\n",
    "            if self.seats_available >= self.seats:\n",
    "                self.seats_available = self.seats\n",
    "                \n",
    "            print(f\"{unload} passengers have left the bus. There are {self.seats_available} left\")\n",
    "    \n",
    "    #change the bus driver attribute\n",
    "    def change_driver(self):\n",
    "        change = input(\"Who is replacing you? \")\n",
    "        self.bus_driver = change\n",
    "        print(f\"The new bus driver is {self.bus_driver}. Be sure to thank them!\")\n",
    "    \n",
    "    #display number of available seats\n",
    "    def check_seats(self):\n",
    "        print(f\"There are {self.seats_available} seats available\")\n",
    "    \n",
    "    #display bus color\n",
    "    def admire_bus(self):\n",
    "        print(f\"Would ya just look at that beautiful {self.color} bus! WOULD YA JUST LOOK AT IT!\")\n",
    "    \n",
    "    \n",
    "        \n",
    "        \n",
    "        \n",
    "\n",
    "\n",
    "\n",
    "\n",
    "\n",
    "\n",
    "\n",
    "\n",
    "        "
   ]
  },
  {
   "cell_type": "markdown",
   "metadata": {},
   "source": [
    "##### Calling"
   ]
  },
  {
   "cell_type": "code",
   "execution_count": 57,
   "metadata": {},
   "outputs": [
    {
     "name": "stdout",
     "output_type": "stream",
     "text": [
      "What would you like to do? Load/Unload/Change Driver/Check Seats/Admire/Quitload\n",
      "How many passengers are getting on? 44\n",
      "44 have boarded. There are 1 seats available on the bus.\n",
      "What would you like to do? Load/Unload/Change Driver/Check Seats/Admire/Quitunload\n",
      "How man passengers are getting off the bus? 30\n",
      "30 passengers have left the bus. There are 31 left\n",
      "What would you like to do? Load/Unload/Change Driver/Check Seats/Admire/Quitquit\n",
      "OH NO! There are still passengers to be picked up. PLS don't abandon them!\n"
     ]
    }
   ],
   "source": [
    "\n",
    "def run():\n",
    "    ryan_bus = Bus(2, 90, 45, 'yellow', \"Ryan\")\n",
    "    while True:\n",
    "        response = input(\"What would you like to do? Load/Unload/Change Driver/Check Seats/Admire/Quit\").lower()\n",
    "        if response == \"quit\":\n",
    "            print(\"OH NO! There are still passengers to be picked up. PLS don't abandon them!\")\n",
    "            break\n",
    "        elif response == \"load\":\n",
    "            ryan_bus.load_passenger() #<-- dont forget your parentheses\n",
    "      \n",
    "        elif response == \"unload\":\n",
    "            ryan_bus.unload_passengers()\n",
    "            \n",
    "        elif response == \"change driver\":\n",
    "            ryan_bus.change_driver()\n",
    "            \n",
    "        elif response == \"check seats\":\n",
    "            ryan_bus.check_seats()\n",
    "            \n",
    "        elif response == \"admire\":\n",
    "            ryan_bus.admire_bus()\n",
    "            \n",
    "        else:\n",
    "            print(\"That is not a valid response. Please choose from the list.\")\n",
    "\n",
    "run()  "
   ]
  },
  {
   "cell_type": "code",
   "execution_count": null,
   "metadata": {},
   "outputs": [],
   "source": []
  },
  {
   "cell_type": "code",
   "execution_count": 26,
   "metadata": {},
   "outputs": [
    {
     "name": "stdout",
     "output_type": "stream",
     "text": [
      "What would you like to add? apples\n",
      "['apples']\n",
      "What would you like to add? bananas\n",
      "['apples', 'bananas']\n"
     ]
    }
   ],
   "source": [
    "class Cart():\n",
    "    def __init__(self):\n",
    "        self.items = []\n",
    "        \n",
    "#     def add_item(self):\n",
    "#         item = input(\"What would you like to add?\")\n",
    "#         quantity = int(input(\"How many would you like to add? \"))\n",
    "#         if item not in self.items:\n",
    "#             self.items[item] = quantity\n",
    "#         else:\n",
    "#             self.items[item] += quantity\n",
    "\n",
    "    def add_item(self):\n",
    "        item = input(\"What would you like to add? \")\n",
    "        self.items.append(item)\n",
    "    \n",
    "    def show_cart(self):\n",
    "        print(self.items)\n",
    "        \n",
    "    def remove_item(self):\n",
    "        pass\n",
    "        \n",
    "my_cart = Cart()\n",
    "my_cart.add_item()\n",
    "my_cart.show_cart()\n",
    "my_cart.add_item()\n",
    "my_cart.show_cart()\n"
   ]
  },
  {
   "cell_type": "markdown",
   "metadata": {},
   "source": [
    "##### Modifying an Attribute's Value Through a Method"
   ]
  },
  {
   "cell_type": "code",
   "execution_count": null,
   "metadata": {},
   "outputs": [],
   "source": [
    "# see above\n",
    "# load_passengers()\n",
    "# unload_passengers()\n",
    "# change_driver()"
   ]
  },
  {
   "cell_type": "markdown",
   "metadata": {},
   "source": [
    "##### Incrementing an Attribute's Value Through a Method"
   ]
  },
  {
   "cell_type": "code",
   "execution_count": null,
   "metadata": {},
   "outputs": [],
   "source": [
    "#unload_passengers()"
   ]
  },
  {
   "cell_type": "markdown",
   "metadata": {},
   "source": [
    "##### In-Class Exercise #3 - Add a method that takes in three parameters of year, doors and seats and prints out a formatted print statement with make, model, year, seats, and doors"
   ]
  },
  {
   "cell_type": "code",
   "execution_count": 63,
   "metadata": {},
   "outputs": [
    {
     "name": "stdout",
     "output_type": "stream",
     "text": [
      "This car is from 1969 and is a Ford Mustang Mach III and has 2 doors and 4 seats\n"
     ]
    }
   ],
   "source": [
    "# Create class with 2 paramters inside of the __init__ which are make and model, more if you'd like\n",
    "\n",
    "# Create two methods for your class\n",
    "\n",
    "# Create a method that alters an attribute for your class\n",
    "\n",
    "# Display method that prints information about the vehicle\n",
    "\n",
    "# Output: This car is from 2019 and is a Ford Expolorer and has 4 doors and 5 seats\n",
    "\n",
    "# reminder in order to call class methods object.method()\n",
    "\n",
    "class Car():\n",
    "    def __init__(self, make, model):\n",
    "        self.make = make\n",
    "        self.model = model\n",
    "        self.year = 2023\n",
    "        self.door = 2\n",
    "        self.seats = 2\n",
    "        \n",
    "    def change_info(self, year, door, seats):\n",
    "        self.year = year\n",
    "        self.door = door\n",
    "        self.seats = seats   \n",
    "    \n",
    "    def display_info(self):\n",
    "        print(f\"This car is from {self.year} and is a {self.make} {self.model} and has {self.door} doors and {self.seats} seats\")\n",
    "        \n",
    "        \n",
    "my_car = Car(\"Ford\", \"Mustang Mach III\")\n",
    "my_car.change_info(1969, 2 ,4)\n",
    "my_car.display_info()\n",
    "\n",
    "\n",
    "\n"
   ]
  },
  {
   "cell_type": "code",
   "execution_count": null,
   "metadata": {},
   "outputs": [],
   "source": []
  },
  {
   "cell_type": "code",
   "execution_count": 1,
   "metadata": {},
   "outputs": [
    {
     "name": "stdout",
     "output_type": "stream",
     "text": [
      "The car is 2022-Honda CR-V and it has 4 door and 5 seats\n",
      "The car is 2020-Honda CR-V and it has 4 door and 8 seats\n"
     ]
    }
   ],
   "source": [
    "class Car():\n",
    "    def __init__(self, make, model):\n",
    "        self.make = make\n",
    "        self.model = model\n",
    "        self.year = 2022\n",
    "        self.seats = 5\n",
    "        self.doors = 4\n",
    "    def change_info(self, year, doors, seats):\n",
    "        self.year = year\n",
    "        self.seats = seats\n",
    "        self.doors = doors\n",
    "        \n",
    "    def display_info(self):\n",
    "        print(f\"The car is {self.year}-{self.make} {self.model} and it has {self.doors} door and {self.seats} seats\")\n",
    "\n",
    "dharti_car = Car(\"Honda\", \"CR-V\")\n",
    "dharti_car.display_info()\n",
    "dharti_car.change_info(2020, 4, 8)\n",
    "dharti_car.display_info()"
   ]
  },
  {
   "cell_type": "code",
   "execution_count": null,
   "metadata": {},
   "outputs": [],
   "source": []
  },
  {
   "cell_type": "code",
   "execution_count": null,
   "metadata": {},
   "outputs": [],
   "source": []
  },
  {
   "cell_type": "code",
   "execution_count": null,
   "metadata": {},
   "outputs": [],
   "source": []
  },
  {
   "cell_type": "code",
   "execution_count": null,
   "metadata": {},
   "outputs": [],
   "source": []
  },
  {
   "cell_type": "code",
   "execution_count": 10,
   "metadata": {},
   "outputs": [
    {
     "ename": "KeyboardInterrupt",
     "evalue": "Interrupted by user",
     "output_type": "error",
     "traceback": [
      "\u001b[1;31m---------------------------------------------------------------------------\u001b[0m",
      "\u001b[1;31mKeyboardInterrupt\u001b[0m                         Traceback (most recent call last)",
      "Input \u001b[1;32mIn [10]\u001b[0m, in \u001b[0;36m<cell line: 23>\u001b[1;34m()\u001b[0m\n\u001b[0;32m     20\u001b[0m     car_1\u001b[38;5;241m.\u001b[39mdefine_model()\n\u001b[0;32m     21\u001b[0m     \u001b[38;5;28mprint\u001b[39m(\u001b[38;5;124mf\u001b[39m\u001b[38;5;124m\"\u001b[39m\u001b[38;5;124mAhh thats right... you have a \u001b[39m\u001b[38;5;132;01m{\u001b[39;00mcar_1\u001b[38;5;241m.\u001b[39mmake\u001b[38;5;132;01m}\u001b[39;00m\u001b[38;5;124m \u001b[39m\u001b[38;5;132;01m{\u001b[39;00mcar_1\u001b[38;5;241m.\u001b[39mmodel\u001b[38;5;132;01m}\u001b[39;00m\u001b[38;5;124m\"\u001b[39m)\n\u001b[1;32m---> 23\u001b[0m \u001b[43mrun\u001b[49m\u001b[43m(\u001b[49m\u001b[43m)\u001b[49m\n",
      "Input \u001b[1;32mIn [10]\u001b[0m, in \u001b[0;36mrun\u001b[1;34m()\u001b[0m\n\u001b[0;32m     18\u001b[0m \u001b[38;5;28;01mdef\u001b[39;00m \u001b[38;5;21mrun\u001b[39m():\n\u001b[1;32m---> 19\u001b[0m     \u001b[43mcar_1\u001b[49m\u001b[38;5;241;43m.\u001b[39;49m\u001b[43mdefine_make\u001b[49m\u001b[43m(\u001b[49m\u001b[43m)\u001b[49m\n\u001b[0;32m     20\u001b[0m     car_1\u001b[38;5;241m.\u001b[39mdefine_model()\n\u001b[0;32m     21\u001b[0m     \u001b[38;5;28mprint\u001b[39m(\u001b[38;5;124mf\u001b[39m\u001b[38;5;124m\"\u001b[39m\u001b[38;5;124mAhh thats right... you have a \u001b[39m\u001b[38;5;132;01m{\u001b[39;00mcar_1\u001b[38;5;241m.\u001b[39mmake\u001b[38;5;132;01m}\u001b[39;00m\u001b[38;5;124m \u001b[39m\u001b[38;5;132;01m{\u001b[39;00mcar_1\u001b[38;5;241m.\u001b[39mmodel\u001b[38;5;132;01m}\u001b[39;00m\u001b[38;5;124m\"\u001b[39m)\n",
      "Input \u001b[1;32mIn [10]\u001b[0m, in \u001b[0;36mCar.define_make\u001b[1;34m(self)\u001b[0m\n\u001b[0;32m      6\u001b[0m \u001b[38;5;28;01mdef\u001b[39;00m \u001b[38;5;21mdefine_make\u001b[39m(\u001b[38;5;28mself\u001b[39m):\n\u001b[1;32m----> 7\u001b[0m     new_make \u001b[38;5;241m=\u001b[39m \u001b[38;5;28;43minput\u001b[39;49m\u001b[43m(\u001b[49m\u001b[38;5;124;43m\"\u001b[39;49m\u001b[38;5;124;43mI seem to have forgotten... what is the make of your car again? \u001b[39;49m\u001b[38;5;124;43m\"\u001b[39;49m\u001b[43m)\u001b[49m\n\u001b[0;32m      8\u001b[0m     \u001b[38;5;28mself\u001b[39m\u001b[38;5;241m.\u001b[39mmake \u001b[38;5;241m=\u001b[39m new_make\n",
      "File \u001b[1;32m~\\AppData\\Local\\Programs\\Python\\Python39\\lib\\site-packages\\ipykernel\\kernelbase.py:1161\u001b[0m, in \u001b[0;36mKernel.raw_input\u001b[1;34m(self, prompt)\u001b[0m\n\u001b[0;32m   1157\u001b[0m \u001b[38;5;28;01mif\u001b[39;00m \u001b[38;5;129;01mnot\u001b[39;00m \u001b[38;5;28mself\u001b[39m\u001b[38;5;241m.\u001b[39m_allow_stdin:\n\u001b[0;32m   1158\u001b[0m     \u001b[38;5;28;01mraise\u001b[39;00m StdinNotImplementedError(\n\u001b[0;32m   1159\u001b[0m         \u001b[38;5;124m\"\u001b[39m\u001b[38;5;124mraw_input was called, but this frontend does not support input requests.\u001b[39m\u001b[38;5;124m\"\u001b[39m\n\u001b[0;32m   1160\u001b[0m     )\n\u001b[1;32m-> 1161\u001b[0m \u001b[38;5;28;01mreturn\u001b[39;00m \u001b[38;5;28;43mself\u001b[39;49m\u001b[38;5;241;43m.\u001b[39;49m\u001b[43m_input_request\u001b[49m\u001b[43m(\u001b[49m\n\u001b[0;32m   1162\u001b[0m \u001b[43m    \u001b[49m\u001b[38;5;28;43mstr\u001b[39;49m\u001b[43m(\u001b[49m\u001b[43mprompt\u001b[49m\u001b[43m)\u001b[49m\u001b[43m,\u001b[49m\n\u001b[0;32m   1163\u001b[0m \u001b[43m    \u001b[49m\u001b[38;5;28;43mself\u001b[39;49m\u001b[38;5;241;43m.\u001b[39;49m\u001b[43m_parent_ident\u001b[49m\u001b[43m[\u001b[49m\u001b[38;5;124;43m\"\u001b[39;49m\u001b[38;5;124;43mshell\u001b[39;49m\u001b[38;5;124;43m\"\u001b[39;49m\u001b[43m]\u001b[49m\u001b[43m,\u001b[49m\n\u001b[0;32m   1164\u001b[0m \u001b[43m    \u001b[49m\u001b[38;5;28;43mself\u001b[39;49m\u001b[38;5;241;43m.\u001b[39;49m\u001b[43mget_parent\u001b[49m\u001b[43m(\u001b[49m\u001b[38;5;124;43m\"\u001b[39;49m\u001b[38;5;124;43mshell\u001b[39;49m\u001b[38;5;124;43m\"\u001b[39;49m\u001b[43m)\u001b[49m\u001b[43m,\u001b[49m\n\u001b[0;32m   1165\u001b[0m \u001b[43m    \u001b[49m\u001b[43mpassword\u001b[49m\u001b[38;5;241;43m=\u001b[39;49m\u001b[38;5;28;43;01mFalse\u001b[39;49;00m\u001b[43m,\u001b[49m\n\u001b[0;32m   1166\u001b[0m \u001b[43m\u001b[49m\u001b[43m)\u001b[49m\n",
      "File \u001b[1;32m~\\AppData\\Local\\Programs\\Python\\Python39\\lib\\site-packages\\ipykernel\\kernelbase.py:1205\u001b[0m, in \u001b[0;36mKernel._input_request\u001b[1;34m(self, prompt, ident, parent, password)\u001b[0m\n\u001b[0;32m   1202\u001b[0m             \u001b[38;5;28;01mbreak\u001b[39;00m\n\u001b[0;32m   1203\u001b[0m \u001b[38;5;28;01mexcept\u001b[39;00m \u001b[38;5;167;01mKeyboardInterrupt\u001b[39;00m:\n\u001b[0;32m   1204\u001b[0m     \u001b[38;5;66;03m# re-raise KeyboardInterrupt, to truncate traceback\u001b[39;00m\n\u001b[1;32m-> 1205\u001b[0m     \u001b[38;5;28;01mraise\u001b[39;00m \u001b[38;5;167;01mKeyboardInterrupt\u001b[39;00m(\u001b[38;5;124m\"\u001b[39m\u001b[38;5;124mInterrupted by user\u001b[39m\u001b[38;5;124m\"\u001b[39m) \u001b[38;5;28;01mfrom\u001b[39;00m \u001b[38;5;28mNone\u001b[39m\n\u001b[0;32m   1206\u001b[0m \u001b[38;5;28;01mexcept\u001b[39;00m \u001b[38;5;167;01mException\u001b[39;00m:\n\u001b[0;32m   1207\u001b[0m     \u001b[38;5;28mself\u001b[39m\u001b[38;5;241m.\u001b[39mlog\u001b[38;5;241m.\u001b[39mwarning(\u001b[38;5;124m\"\u001b[39m\u001b[38;5;124mInvalid Message:\u001b[39m\u001b[38;5;124m\"\u001b[39m, exc_info\u001b[38;5;241m=\u001b[39m\u001b[38;5;28;01mTrue\u001b[39;00m)\n",
      "\u001b[1;31mKeyboardInterrupt\u001b[0m: Interrupted by user"
     ]
    }
   ],
   "source": [
    "class Car():\n",
    "    def __init__ (self, make, model):\n",
    "        self.make = make\n",
    "        self.model = model\n",
    "    \n",
    "    def define_make(self):\n",
    "        new_make = input(\"I seem to have forgotten... what is the make of your car again? \")\n",
    "        self.make = new_make\n",
    "        \n",
    "      \n",
    "    def define_model(self):\n",
    "        new_model = input(\"I seem to have forgotten... what is the model of your car again? \")\n",
    "        self.model = new_model\n",
    "        \n",
    "\n",
    "car_1 = Car('Honda', 'Civic')\n",
    "\n",
    "def run():\n",
    "    car_1.define_make()\n",
    "    car_1.define_model()\n",
    "    print(f\"Ahh thats right... you have a {car_1.make} {car_1.model}\")\n",
    "    \n",
    "run()\n"
   ]
  },
  {
   "cell_type": "markdown",
   "metadata": {},
   "source": [
    "## Inheritance <br>\n",
    "<p>You can create a child-parent relationship between two classes by using inheritance. What this allows you to do is have overriding methods, but also inherit traits from the parent class. Think of it as an actual parent and child, the child will inherit the parent's genes, as will the classes in OOP</p>"
   ]
  },
  {
   "cell_type": "markdown",
   "metadata": {},
   "source": [
    "##### Syntax for Inheriting from a Parent Class"
   ]
  },
  {
   "cell_type": "code",
   "execution_count": 6,
   "metadata": {},
   "outputs": [],
   "source": [
    "# creation of our parent class\n",
    "class Animal: # <-- parent class\n",
    "    ACCELERATION = 9.8\n",
    "    def __init__(self, name, species, legs = 4):\n",
    "        self.name = name\n",
    "        self.species = species\n",
    "        self.legs = legs\n",
    "#        self.mammal = mammal\n",
    "        \n",
    "    #generic parent method\n",
    "    def make_sound(self):\n",
    "        print(\"REEEEEEEEEE\")\n",
    "\n",
    "#creation of the child class\n",
    "class Dog(Animal):\n",
    "    SPEED = 15\n",
    "    def __init__(self, name, species, color, legs = 4):\n",
    "        super().__init__(name, species, legs)\n",
    "        self.color = color\n",
    "    \n",
    "    \n",
    "    def print_info(self):\n",
    "        print(f\"{self.name} runs at {self.SPEED} mph and accelerates at {self.ACCELERATION} mps^2\")\n",
    "        \n",
    "        \n",
    "#creation of the grandchild class\n",
    "class Mutt(Dog):\n",
    "    COLOR = \"light brownish\"\n",
    "    \n",
    "    #Access the Animal init class through the Dog class\n",
    "    def __init__(self, name, species, eye_color, legs = 4):\n",
    "        Dog.__init__(self, name, species, legs)\n",
    "        self.eye_color = eye_color\n",
    "        Animal.make_sound(self)       \n",
    "        \n",
    "        \n",
    "    #override the make_sound method\n",
    "    def make_sound(self):\n",
    "        print(\"roooooooo\")  \n",
    "\n",
    "        \n",
    "        \n",
    "# mutt = Mutt('d', 'd', 'd')"
   ]
  },
  {
   "cell_type": "code",
   "execution_count": 7,
   "metadata": {},
   "outputs": [
    {
     "name": "stdout",
     "output_type": "stream",
     "text": [
      "9.8\n",
      "kwiky\n",
      "REEEEEEEEEE\n"
     ]
    }
   ],
   "source": [
    "koala = Animal('kwiky', 'koala')\n",
    "print(koala.ACCELERATION)\n",
    "print(koala.name)\n",
    "koala.make_sound()"
   ]
  },
  {
   "cell_type": "code",
   "execution_count": null,
   "metadata": {},
   "outputs": [],
   "source": []
  },
  {
   "cell_type": "code",
   "execution_count": 8,
   "metadata": {},
   "outputs": [
    {
     "name": "stdout",
     "output_type": "stream",
     "text": [
      "9.8\n",
      "Greg\n",
      "REEEEEEEEEE\n"
     ]
    }
   ],
   "source": [
    "#instantiating and access the parent classs\n",
    "elephant = Animal('Greg', 'elephant')\n",
    "print(elephant.ACCELERATION)\n",
    "print(elephant.name)\n",
    "elephant.make_sound()\n"
   ]
  },
  {
   "cell_type": "code",
   "execution_count": 9,
   "metadata": {},
   "outputs": [
    {
     "name": "stdout",
     "output_type": "stream",
     "text": [
      "Precious runs at 15 mph and accelerates at 9.8 mps^2\n",
      "15\n",
      "4\n"
     ]
    }
   ],
   "source": [
    "#instatiating and access the child class with parent attributes\n",
    "maltese = Dog(\"Precious\", \"Maltese\", \"Brown\")\n",
    "maltese.print_info()\n",
    "print(maltese.SPEED)\n",
    "print(maltese.legs)"
   ]
  },
  {
   "cell_type": "code",
   "execution_count": 11,
   "metadata": {},
   "outputs": [
    {
     "name": "stdout",
     "output_type": "stream",
     "text": [
      "REEEEEEEEEE\n",
      "roooooooo\n",
      "Kiwi runs at 15 mph and accelerates at 9.8 mps^2\n",
      "brown\n",
      "brown\n"
     ]
    }
   ],
   "source": [
    "kiwi = Mutt(\"Kiwi\", \"Dog\", \"brown\")\n",
    "kiwi.make_sound()\n",
    "kiwi.print_info()\n",
    "print(kiwi.eye_color)\n",
    "kiwi.COLOR = \"brown\"\n",
    "\n",
    "print(kiwi.COLOR)"
   ]
  },
  {
   "cell_type": "markdown",
   "metadata": {},
   "source": [
    "##### The \\__init\\__() Method for a Child Class - super()"
   ]
  },
  {
   "cell_type": "code",
   "execution_count": 10,
   "metadata": {
    "scrolled": true
   },
   "outputs": [
    {
     "name": "stdout",
     "output_type": "stream",
     "text": [
      "Eyo runs at 15 mph and accelerates at 9.8 mps^2\n",
      "9.8\n"
     ]
    }
   ],
   "source": [
    "class Mutt(Dog):\n",
    "    COLOR = \"light brownish\"\n",
    "    \n",
    "    #Access the Animal init class through the Dog class\n",
    "    def __init__(self, name, species, eye_color, legs = 4):\n",
    "        super().__init__(name, species, legs)\n",
    "        self.eye_color = eye_color\n",
    "        \n",
    "    #override the make_sound method\n",
    "    def make_sound(self):\n",
    "        print(\"roooooooo\")   \n",
    "        \n",
    "        \n",
    "eyo = Mutt(\"Eyo\",\"Dog\",\"brown\")\n",
    "eyo.print_info()\n",
    "print(eyo.ACCELERATION)"
   ]
  },
  {
   "cell_type": "markdown",
   "metadata": {},
   "source": [
    "##### Defining Attributes and Methods for the Child Class"
   ]
  },
  {
   "cell_type": "code",
   "execution_count": null,
   "metadata": {},
   "outputs": [],
   "source": [
    "# See Above"
   ]
  },
  {
   "cell_type": "markdown",
   "metadata": {},
   "source": [
    "##### Method Overriding"
   ]
  },
  {
   "cell_type": "code",
   "execution_count": null,
   "metadata": {},
   "outputs": [],
   "source": [
    "# See Above"
   ]
  },
  {
   "cell_type": "markdown",
   "metadata": {},
   "source": [
    "## Classes as Attributes <br>\n",
    "<p>Classes can also be used as attributes within another class. This is useful in situations where you need to keep variables locally stored, instead of globally stored.</p>"
   ]
  },
  {
   "cell_type": "code",
   "execution_count": 14,
   "metadata": {},
   "outputs": [
    {
     "name": "stdout",
     "output_type": "stream",
     "text": [
      "2023 Tesla Plaid 20\n"
     ]
    }
   ],
   "source": [
    "class Battery():\n",
    "    VOLTZ = 7.8\n",
    "    \n",
    "    def __init__(self, cells):\n",
    "        self.cells = cells\n",
    "        \n",
    "class Car():\n",
    "    def __init__(self, year, make, model, battery):\n",
    "        self.year = year\n",
    "        self.make = make\n",
    "        self.model = model\n",
    "        self.battery = battery\n",
    "        \n",
    "    def print_info(self):\n",
    "        print(f\"{self.year} {self.make} {self.model} {self.battery.cells}\")\n",
    "        \n",
    "my_battey = Battery(20)\n",
    "\n",
    "tesla = Car(2023, \"Tesla\", \"Plaid\", my_battey)\n",
    "\n",
    "# print(tesla.battery.cells)\n",
    "\n",
    "tesla.print_info()\n",
    "\n",
    "\n",
    "        "
   ]
  },
  {
   "cell_type": "markdown",
   "metadata": {},
   "source": [
    "## Classes as Attributes <br>"
   ]
  },
  {
   "cell_type": "markdown",
   "metadata": {},
   "source": [
    "<b>Generators in classes</b>"
   ]
  },
  {
   "cell_type": "code",
   "execution_count": 26,
   "metadata": {},
   "outputs": [],
   "source": [
    "class Movie:\n",
    "    def __init__(self):\n",
    "        self.genres = [\"spooky\", \"adventure\", \"drama\", \"horror\", \"comedy\", \"action\", \"romance\"]\n",
    "        self.generator_object = self.yield_genres()\n",
    "        \n",
    "    def yield_genres(self):\n",
    "        for genre in self.genres:\n",
    "            yield genre\n",
    "            \n",
    "    def show_genres(self):\n",
    "        try:\n",
    "            return next(self.generator_object)\n",
    "        except:\n",
    "            print(\"no more genres\")\n",
    "                \n",
    "my_movie = Movie()\n",
    "\n",
    "\n",
    "\n",
    "\n",
    "     \n"
   ]
  },
  {
   "cell_type": "code",
   "execution_count": 35,
   "metadata": {},
   "outputs": [
    {
     "name": "stdout",
     "output_type": "stream",
     "text": [
      "no more genres\n"
     ]
    }
   ],
   "source": [
    "my_movie.show_genres()\n"
   ]
  },
  {
   "cell_type": "code",
   "execution_count": null,
   "metadata": {},
   "outputs": [],
   "source": []
  },
  {
   "cell_type": "markdown",
   "metadata": {},
   "source": [
    "# Exercises"
   ]
  },
  {
   "cell_type": "markdown",
   "metadata": {},
   "source": [
    "### Exercise 1 - Turn the shopping cart program from last week into an object-oriented program\n",
    "\n",
    "The comments in the cell below are there as a guide for thinking about the problem. However, if you feel a different way is best for you and your own thought process, please do what feels best for you by all means."
   ]
  },
  {
   "cell_type": "code",
   "execution_count": null,
   "metadata": {},
   "outputs": [
    {
     "name": "stdout",
     "output_type": "stream",
     "text": [
      "Enter 'add' to add an item to the cart, 'remove' to remove an item from the cart,'cart' to display current shopping cart, or 'quit' to exit the program:gobots\n",
      "Invalid input. Please try again.\n"
     ]
    }
   ],
   "source": [
    "# # Create a class called cart that retains items and has methods to add, remove, and show\n",
    "\n",
    "# class Cart():\n",
    "#     pass\n",
    "\n",
    "from IPython.display import clear_output\n",
    "\n",
    "# Ask the user four bits of input: Do you want to : Show/Add/Delete or Quit?\n",
    "# initialize an empty dictionary to store the shopping list items\n",
    "shopping_cart = {}\n",
    "\n",
    "\n",
    "def add_item(item_name, quantity):\n",
    "    \n",
    "    shopping_cart[item_name] = quantity\n",
    "    \n",
    "    print(f\"{quantity} {item_name} added to the shopping cart.\")\n",
    "\n",
    "def remove_item(item_name):\n",
    "    \n",
    "    if item_name in shopping_cart:\n",
    "        \n",
    "        del shopping_cart[item_name]\n",
    "        \n",
    "        print(f\"{item_name} removed from shopping cart.\")\n",
    "    \n",
    "    else:\n",
    "        \n",
    "        print(f\"{item_name} is not in the shopping cart .\")\n",
    "\n",
    "\n",
    "def display_cart():\n",
    "    \n",
    "    if len(shopping_cart) == 0:\n",
    "        \n",
    "        print(\"Your cart is empty.\")\n",
    "   \n",
    "    else:\n",
    "        \n",
    "        print(\"Items in your shopping cart:\")\n",
    "        \n",
    "        for item_name, quantity in shopping_cart.items():\n",
    "            \n",
    "            print(f\"{quantity} {item_name}\")\n",
    "\n",
    "\n",
    "while True:\n",
    "    \n",
    "    user_input = input(\"Enter 'add' to add an item to your cart, 'remove' to remove an item from your cartand ,'cart' to display the current items in your shopping cart, or 'quit' to exit your shopping experience:\")\n",
    "\n",
    "    \n",
    "    if user_input == \"add\":\n",
    "        \n",
    "        item_name = input(\"Enter name of item: \")\n",
    "        \n",
    "        quantity = input(\"Enter quantity: \")\n",
    "        \n",
    "        add_item(item_name, quantity)\n",
    "    \n",
    "    elif user_input == \"remove\":\n",
    "        \n",
    "        item_name = input(\"Enter the items name: \")\n",
    "        \n",
    "        remove_item(item_name)\n",
    "    \n",
    "    elif user_input == \"cart\":\n",
    "        \n",
    "        display_cart()\n",
    "    \n",
    "    elif user_input == \"quit\":\n",
    "        \n",
    "        break\n",
    "    \n",
    "    else:\n",
    "        \n",
    "        print(\"Invalid input. Please try again.\")\n",
    "\n",
    "\n",
    "print(\"Thank you for shopping with us\")\n",
    "display_cart()\n"
   ]
  },
  {
   "cell_type": "markdown",
   "metadata": {},
   "source": [
    "### Exercise 2 - Write a Python class which has two methods get_String and print_String. get_String accept a string from the user and print_String print the string in upper case"
   ]
  },
  {
   "cell_type": "code",
   "execution_count": 6,
   "metadata": {},
   "outputs": [
    {
     "ename": "NameError",
     "evalue": "name 'Words_strings' is not defined",
     "output_type": "error",
     "traceback": [
      "\u001b[1;31m---------------------------------------------------------------------------\u001b[0m",
      "\u001b[1;31mNameError\u001b[0m                                 Traceback (most recent call last)",
      "Cell \u001b[1;32mIn[6], line 1\u001b[0m\n\u001b[1;32m----> 1\u001b[0m \u001b[38;5;28;01mclass\u001b[39;00m \u001b[38;5;21;01mWords_strings\u001b[39;00m():\n\u001b[0;32m      3\u001b[0m     \u001b[38;5;28;01mdef\u001b[39;00m \u001b[38;5;21m__init__\u001b[39m(\u001b[38;5;28mself\u001b[39m):\n\u001b[0;32m      5\u001b[0m         \u001b[38;5;28mself\u001b[39m\u001b[38;5;241m.\u001b[39mstring \u001b[38;5;241m=\u001b[39m \u001b[38;5;124m\"\u001b[39m\u001b[38;5;124m\"\u001b[39m\n",
      "Cell \u001b[1;32mIn[6], line 15\u001b[0m, in \u001b[0;36mWords_strings\u001b[1;34m()\u001b[0m\n\u001b[0;32m     11\u001b[0m \u001b[38;5;28;01mdef\u001b[39;00m \u001b[38;5;21mprint_String\u001b[39m(\u001b[38;5;28mself\u001b[39m):\n\u001b[0;32m     12\u001b[0m     \u001b[38;5;28mprint\u001b[39m(\u001b[38;5;124m\"\u001b[39m\u001b[38;5;124mCapitalize Everything! : \u001b[39m\u001b[38;5;124m\"\u001b[39m, \u001b[38;5;28mself\u001b[39m\u001b[38;5;241m.\u001b[39mstring\u001b[38;5;241m.\u001b[39mupper())\n\u001b[1;32m---> 15\u001b[0m words \u001b[38;5;241m=\u001b[39m \u001b[43mWords_strings\u001b[49m()\n\u001b[0;32m     18\u001b[0m words\u001b[38;5;241m.\u001b[39mget_String()\n\u001b[0;32m     21\u001b[0m words\u001b[38;5;241m.\u001b[39mprint_String()\n",
      "\u001b[1;31mNameError\u001b[0m: name 'Words_strings' is not defined"
     ]
    }
   ],
   "source": [
    "class Words_strings():\n",
    "    \n",
    "    def __init__(self):\n",
    "        \n",
    "        self.string = \"\"\n",
    "\n",
    "    def get_String(self):\n",
    "        \n",
    "        self.string = input(\"Enter something you want too yell : \")\n",
    "\n",
    "    def print_String(self):\n",
    "        print(\"Capitalize Everything! : \", self.string.upper())\n",
    "        \n",
    "       \n",
    "    words = Words_strings()\n",
    "\n",
    "\n",
    "    words.get_String()\n",
    "\n",
    "\n",
    "    words.print_String()\n"
   ]
  },
  {
   "cell_type": "code",
   "execution_count": null,
   "metadata": {},
   "outputs": [],
   "source": []
  },
  {
   "cell_type": "code",
   "execution_count": null,
   "metadata": {},
   "outputs": [],
   "source": []
  },
  {
   "cell_type": "code",
   "execution_count": 1,
   "metadata": {},
   "outputs": [],
   "source": [
    "class ParkingGarage:\n",
    "    def __init__(self, tickets, parkingSpaces, currentTicket):\n",
    "        self.tickets = tickets\n",
    "        self.parkingSpaces = parkingSpaces\n",
    "        self.currentTicket = currentTicket\n",
    "\n",
    "    def takeTicket(self):\n",
    "        if len(self.tickets) > 0 and len(self.parkingSpaces) > 0:\n",
    "            ticket = self.tickets.pop()\n",
    "            self.parkingSpaces.pop()\n",
    "            self.currentTicket[ticket] = {'paid': False}\n",
    "            print(f\"Your ticket number is {ticket}\")\n",
    "        else:\n",
    "            print(\"Sorry, the garage is full.\")\n",
    "\n",
    "    def payForParking(self):\n",
    "        ticket = input(\"Please enter your ticket number: \")\n",
    "        if self.currentTicket.get(ticket):\n",
    "            if self.currentTicket[ticket]['paid']:\n",
    "                print(\"Your ticket has already been paid.\")\n",
    "            else:\n",
    "                payment = input(\"Please enter the payment amount: \")\n",
    "                if payment:\n",
    "                    self.currentTicket[ticket]['paid'] = True\n",
    "                    print(\"Thank you for your payment. You have 15 minutes to leave.\")\n",
    "                else:\n",
    "                    print(\"Payment cannot be empty.\")\n",
    "        else:\n",
    "            print(\"Invalid ticket number.\")\n",
    "\n",
    "    def leaveGarage(self):\n",
    "        ticket = input(\"Please insert your ticket: \")\n",
    "        if self.currentTicket.get(ticket):\n",
    "            if self.currentTicket[ticket]['paid']:\n",
    "                print(\"Thank you, have a nice day!\")\n",
    "                self.tickets.append(ticket)\n",
    "                self.parkingSpaces.append(1)\n",
    "                del self.currentTicket[ticket]\n",
    "            else:\n",
    "                print(\"Please pay for your ticket before leaving.\")\n",
    "        else:\n",
    "            print(\"Invalid ticket number.\")\n",
    "            \n",
    "garage = ParkingGarage(tickets=[1, 2, 3, 4, 5], parkingSpaces=[1, 2, 3, 4, 5], currentTicket={})\n",
    "\n"
   ]
  },
  {
   "cell_type": "code",
   "execution_count": 2,
   "metadata": {},
   "outputs": [
    {
     "name": "stdout",
     "output_type": "stream",
     "text": [
      "Your ticket number is 5\n"
     ]
    }
   ],
   "source": [
    "garage.takeTicket()\n",
    "\n"
   ]
  },
  {
   "cell_type": "code",
   "execution_count": null,
   "metadata": {},
   "outputs": [],
   "source": [
    "garage.payForParking()"
   ]
  },
  {
   "cell_type": "code",
   "execution_count": null,
   "metadata": {},
   "outputs": [],
   "source": [
    "garage.leaveGarage()"
   ]
  },
  {
   "cell_type": "code",
   "execution_count": null,
   "metadata": {},
   "outputs": [],
   "source": []
  },
  {
   "cell_type": "code",
   "execution_count": null,
   "metadata": {},
   "outputs": [],
   "source": [
    "spaces = [\"empty\"] * 10\n",
    "\n",
    "def print_spaces():\n",
    "    \n",
    "    print(\"Current parking spaces:\")\n",
    "    \n",
    "    for i, space in enumerate(spaces):\n",
    "        \n",
    "        print(f\"Space {i+1}: {space}\")\n",
    "        \n",
    "    print()\n",
    "\n",
    "\n",
    "def issue_ticket():\n",
    "    \n",
    "    for i, space in enumerate(spaces):\n",
    "        \n",
    "        if space == \"empty\":\n",
    "            \n",
    "            spaces[i] = \"ticket\"\n",
    "            \n",
    "            print(f\"Ticket issued for space {i+1}.\")\n",
    "            \n",
    "            return\n",
    "        \n",
    "    print(\"Sorry, the parking garage is full.\")      \n",
    "    \n",
    "def leave():\n",
    "    \n",
    "    space_num = int(input(\"Enter the number of the space you parked in: \"))\n",
    "    \n",
    "    if spaces[space_num-1] == \"ticket\":\n",
    "        \n",
    "        payment = input(\"Enter payment amount: \")\n",
    "        \n",
    "        print(f\"Thank you for your payment of {payment} dollars. You may now leave the parking garage.\")\n",
    "        \n",
    "        spaces[space_num-1] = \"empty\"\n",
    "        \n",
    "    else:\n",
    "        \n",
    "        print(\"Sorry, that space is not currently occupied by a ticket holder.\")\n",
    "\n",
    "while True:\n",
    "    \n",
    "    print_spaces()\n",
    "    \n",
    "    action = input(\"Enter 'park' to issue a new ticket, 'leave' to pay and leave, or 'exit' to quit: \")\n",
    "    \n",
    "    if action == \"park\":\n",
    "        \n",
    "        issue_ticket()\n",
    "        \n",
    "    elif action == \"leave\":\n",
    "        \n",
    "        leave()\n",
    "        \n",
    "    elif action == \"exit\":\n",
    "        \n",
    "        break\n",
    "    \n",
    "    else:\n",
    "        print(\"Invalid input. Please try again.\")"
   ]
  },
  {
   "cell_type": "code",
   "execution_count": null,
   "metadata": {},
   "outputs": [],
   "source": []
  },
  {
   "cell_type": "code",
   "execution_count": null,
   "metadata": {},
   "outputs": [],
   "source": [
    "Recreate your shopping cart program with OOP:\n",
    "\n",
    "The user should be able to :\n",
    "add items,\n",
    "delete items,\n",
    "check their cart, \n",
    "quit\n",
    "\n",
    "When the user selects quit it should break our of the program and display the items in their cart.\n",
    "\n",
    "\n",
    "\n",
    "class ParkingGarage:\n",
    "    def __init__(self, tickets, parkingSpaces, currentTicket):\n",
    "        self.tickets = tickets\n",
    "        self.parkingSpaces = parkingSpaces\n",
    "        self.currentTicket = currentTicket\n",
    "\n",
    "    def takeTicket(self):\n",
    "        if len(self.tickets) > 0 and len(self.parkingSpaces) > 0:\n",
    "            ticket = self.tickets.pop()\n",
    "            self.parkingSpaces.pop()\n",
    "            self.currentTicket[ticket] = {'paid': False}\n",
    "            print(f\"Your ticket number is {ticket}\")\n",
    "        else:\n",
    "            print(\"Sorry, the garage is full.\")\n",
    "\n",
    "    def payForParking(self):\n",
    "        ticket = input(\"Please enter your ticket number: \")\n",
    "        if self.currentTicket.get(ticket):\n",
    "            if self.currentTicket[ticket]['paid']:\n",
    "                print(\"Your ticket has already been paid.\")\n",
    "            else:\n",
    "                payment = input(\"Please enter the payment amount: \")\n",
    "                if payment:\n",
    "                    self.currentTicket[ticket]['paid'] = True\n",
    "                    print(\"Thank you for your payment. You have 15 minutes to leave.\")\n",
    "                else:\n",
    "                    print(\"Payment cannot be empty.\")\n",
    "        else:\n",
    "            print(\"Invalid ticket number.\")\n",
    "\n",
    "    def leaveGarage(self):\n",
    "        ticket = input(\"Please insert your ticket: \")\n",
    "        if self.currentTicket.get(ticket):\n",
    "            if self.currentTicket[ticket]['paid']:\n",
    "                print(\"Thank you, have a nice day!\")\n",
    "                self.tickets.append(ticket)\n",
    "                self.parkingSpaces.append(1)\n",
    "                del self.currentTicket[ticket]\n",
    "            else:\n",
    "                print(\"Please pay for your ticket before leaving.\")\n",
    "        else:\n",
    "            print(\"Invalid ticket number.\")\n",
    "            \n",
    "garage = ParkingGarage(tickets=[1, 2, 3, 4, 5], parkingSpaces=[1, 2, 3, 4, 5], currentTicket={})\n",
    "\n",
    "garage.takeTicket()\n",
    "\n",
    "garage.payForParking()\n",
    "\n",
    "garage.leaveGarage()\n",
    "\n"
   ]
  },
  {
   "cell_type": "code",
   "execution_count": null,
   "metadata": {},
   "outputs": [],
   "source": []
  },
  {
   "cell_type": "code",
   "execution_count": null,
   "metadata": {},
   "outputs": [
    {
     "name": "stdout",
     "output_type": "stream",
     "text": [
      "Please select an option:\n",
      "1. Add item\n",
      "2. Remove item\n",
      "3. View cart\n",
      "4. Quit\n",
      "1\n",
      "Enter item to add: blue paint\n",
      "blue paint added to cart.\n",
      "Please select an option:\n",
      "1. Add item\n",
      "2. Remove item\n",
      "3. View cart\n",
      "4. Quit\n",
      "1yellow paint\n",
      "Invalid choice. Please check your option and choose one between 1 and 4 .\n",
      "Please select an option:\n",
      "1. Add item\n",
      "2. Remove item\n",
      "3. View cart\n",
      "4. Quit\n",
      "1\n",
      "Enter item to add: yellow paint\n",
      "yellow paint added to cart.\n",
      "Please select an option:\n",
      "1. Add item\n",
      "2. Remove item\n",
      "3. View cart\n",
      "4. Quit\n",
      "3\n",
      "Items in your cart:\n",
      "blue paint\n",
      "yellow paint\n",
      "Please select an option:\n",
      "1. Add item\n",
      "2. Remove item\n",
      "3. View cart\n",
      "4. Quit\n",
      "6\n",
      "Invalid choice. Please check your option and choose one between 1 and 4 .\n",
      "Please select an option:\n",
      "1. Add item\n",
      "2. Remove item\n",
      "3. View cart\n",
      "4. Quit\n"
     ]
    }
   ],
   "source": [
    "class ShoppingCart:\n",
    "    def __init__(self):\n",
    "        self.items = []\n",
    "\n",
    "    def add_item(self, item):\n",
    "        self.items.append(item)\n",
    "        print(f\"{item} added to cart.\")\n",
    "\n",
    "    def remove_item(self, item):\n",
    "        if item in self.items:\n",
    "            self.items.remove(item)\n",
    "            print(f\"{item} removed from cart.\")\n",
    "        else:\n",
    "            print(f\"{item} not found in cart.\")\n",
    "\n",
    "    def view_cart(self):\n",
    "        if len(self.items) == 0:\n",
    "            print(\"Your cart is empty.\")\n",
    "        else:\n",
    "            print(\"Items in your cart:\")\n",
    "            for item in self.items:\n",
    "                print(item)\n",
    "\n",
    "shopping_cart = ShoppingCart()\n",
    "\n",
    "while True:\n",
    "    print(\"Please select an option:\")\n",
    "    print(\"1. Add item\")\n",
    "    print(\"2. Remove item\")\n",
    "    print(\"3. View cart\")\n",
    "    print(\"4. Quit\")\n",
    "    choice = input()\n",
    "\n",
    "    if choice == \"1\":\n",
    "        item = input(\"Enter item to add: \")\n",
    "        shopping_cart.add_item(item)\n",
    "    elif choice == \"2\":\n",
    "        item = input(\"Enter item to remove: \")\n",
    "        shopping_cart.remove_item(item)\n",
    "    elif choice == \"3\":\n",
    "        shopping_cart.view_cart()\n",
    "    elif choice == \"4\":\n",
    "        shopping_cart.view_cart()\n",
    "        break\n",
    "    else:\n",
    "        print(\"Invalid choice. Please check your option and choose one between 1 and 4 .\")"
   ]
  },
  {
   "cell_type": "code",
   "execution_count": null,
   "metadata": {},
   "outputs": [],
   "source": []
  },
  {
   "cell_type": "code",
   "execution_count": null,
   "metadata": {},
   "outputs": [],
   "source": []
  },
  {
   "cell_type": "code",
   "execution_count": null,
   "metadata": {},
   "outputs": [],
   "source": []
  },
  {
   "cell_type": "code",
   "execution_count": null,
   "metadata": {},
   "outputs": [],
   "source": []
  }
 ],
 "metadata": {
  "kernelspec": {
   "display_name": "Python 3 (ipykernel)",
   "language": "python",
   "name": "python3"
  },
  "language_info": {
   "codemirror_mode": {
    "name": "ipython",
    "version": 3
   },
   "file_extension": ".py",
   "mimetype": "text/x-python",
   "name": "python",
   "nbconvert_exporter": "python",
   "pygments_lexer": "ipython3",
   "version": "3.10.10"
  }
 },
 "nbformat": 4,
 "nbformat_minor": 2
}
